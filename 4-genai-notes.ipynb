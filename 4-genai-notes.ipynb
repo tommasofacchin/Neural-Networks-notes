{
 "cells": [
  {
   "cell_type": "markdown",
   "id": "f17705f7",
   "metadata": {
    "papermill": {
     "duration": 0.002467,
     "end_time": "2025-10-17T19:30:17.156349",
     "exception": false,
     "start_time": "2025-10-17T19:30:17.153882",
     "status": "completed"
    },
    "tags": []
   },
   "source": [
    "# **Generative AI Personal Notes**\n",
    "\n",
    "# **Introduction to Generative AI**\n",
    "\n",
    "## **Definition of Generative AI**\n",
    "Generative AI is basically any kind of AI that can *create* new content rather than just analyzing existing data. This could be text, images, music, code, or even video. Unlike traditional AI that mostly classifies, predicts, or detects patterns, generative AI tries to *imitate* the process of human creativity. Think of it as teaching a machine to “imagine” something new based on what it has learned. The cool part is that it doesn’t just copy what it’s seen—it generates something original, though often influenced by the training data.  \n",
    "\n",
    "## **Brief History and Evolution**\n",
    "Generative AI isn’t exactly brand new, but it has exploded in the past decade. Some key milestones:  \n",
    "- Early work: Back in the 1990s and 2000s, we had basic probabilistic models and some neural networks that could generate simple patterns.  \n",
    "- GANs: In 2014, Generative Adversarial Networks (GANs) came out, which was a huge game-changer for generating realistic images. The “adversarial” part means two networks compete—the generator tries to create content, the discriminator tries to spot fakes. This tug-of-war leads to surprisingly realistic outputs.  \n",
    "- Transformers & LLMs: Around 2017, the Transformer architecture arrived, making it much easier to handle sequential data like text. That gave rise to models like GPT, which can write paragraphs, answer questions, or even code.  \n",
    "- Multi-modal models: More recently, AI started handling multiple types of data at once—images, text, audio—blurring the lines between creative fields.  \n",
    "\n",
    "So basically, the field went from basic pattern generation → convincing images → sophisticated language → multi-modal creativity. The pace has been insane, and every year there’s something new that feels “sci-fi level.”  \n",
    "\n",
    "## **Main Application Areas**\n",
    "Generative AI is everywhere now, even if you don’t notice it. Some big categories:  \n",
    "- **Text & Language**: Chatbots, content creation, summarization, translation, coding assistants. Basically anything involving language can be augmented.  \n",
    "- **Images & Art**: AI-generated art, photo editing, meme creation, even fashion design. Tools like DALL·E or MidJourney fall here.  \n",
    "- **Audio & Music**: AI can compose music, create realistic voiceovers, or generate sound effects.  \n",
    "- **Video & Animation**: Generating short clips, animating characters, deepfake-style video editing. Still harder than text or images, but improving fast.  \n",
    "- **Science & Research**: Drug discovery, protein folding, chemical simulation, generating hypotheses or datasets.  \n",
    "- **Business & Productivity**: Automated reports, personalized marketing content, document drafting, and customer support.  \n",
    "\n",
    "In short, any field where creativity, simulation, or content production is important is being touched by generative AI. It’s not perfect, but the rate of improvement is crazy.  "
   ]
  },
  {
   "cell_type": "markdown",
   "id": "8674b4a6",
   "metadata": {
    "papermill": {
     "duration": 0.001666,
     "end_time": "2025-10-17T19:30:17.160348",
     "exception": false,
     "start_time": "2025-10-17T19:30:17.158682",
     "status": "completed"
    },
    "tags": []
   },
   "source": [
    "\n",
    "# **Technical Fundamentals**\n",
    "## **Types of Generative Models**\n",
    "### **Autoregressive Models**\n",
    "### **Variational Autoencoders (VAE)**\n",
    "### **Generative Adversarial Networks (GAN)**\n",
    "## **Neural Networks and Deep Learning**\n",
    "## **Tokenization and Embeddings**\n",
    "\n",
    "\n",
    "# **Generative Language Models**\n",
    "## **Introduction to Large Language Models (LLMs)**\n",
    "## **Transformer Architecture**\n",
    "## **Training and Fine-tuning**\n",
    "## **Prompting and Model Control**\n",
    "## **Text Generation Parameters**\n",
    "temperature, tok-p, max tokens, stop sequences, penalties\n",
    "## **Retrieval-Augmented Generation (RAG)**\n",
    "## **LLM Frameworks and Tools**\n",
    "LangChain, LlamaIndex, Haystack\n",
    "## **Advanced Prompting Techniques**\n",
    "## **Model Safety and Bias Mitigation**\n",
    "## **Memory and State Handling**\n",
    "## **Multi-modal LLMs**\n",
    "\n",
    "\n",
    "# **Generative AI for Images and Multimedia**\n",
    "## **Image Generation Models (DALL·E, Stable Diffusion, etc.)**\n",
    "## **Audio and Music Generation**\n",
    "## **Video Generation**\n",
    "\n",
    "\n",
    "# **Tools and Platforms**\n",
    "## **Libraries and Frameworks (Hugging Face, OpenAI, TensorFlow, etc.)**\n",
    "## **Deployment Tools and APIs**\n",
    "## **No-code / Low-code Interfaces**"
   ]
  },
  {
   "cell_type": "markdown",
   "id": "309b241e",
   "metadata": {
    "papermill": {
     "duration": 0.00131,
     "end_time": "2025-10-17T19:30:17.163258",
     "exception": false,
     "start_time": "2025-10-17T19:30:17.161948",
     "status": "completed"
    },
    "tags": []
   },
   "source": [
    "# Useful resources\n",
    "\n",
    "### **Youtube**\n",
    "\n",
    "### **Websites**\n",
    "\n",
    "### **Courses**\n",
    "\n",
    "*Oracle*: OCI Generative AI Professional (2025)\n",
    "https://mylearn.oracle.com/ou/learning-path/become-an-oci-generative-ai-professional-2025/147863"
   ]
  }
 ],
 "metadata": {
  "kaggle": {
   "accelerator": "none",
   "dataSources": [],
   "dockerImageVersionId": 31153,
   "isGpuEnabled": false,
   "isInternetEnabled": true,
   "language": "python",
   "sourceType": "notebook"
  },
  "kernelspec": {
   "display_name": "Python 3",
   "language": "python",
   "name": "python3"
  },
  "language_info": {
   "codemirror_mode": {
    "name": "ipython",
    "version": 3
   },
   "file_extension": ".py",
   "mimetype": "text/x-python",
   "name": "python",
   "nbconvert_exporter": "python",
   "pygments_lexer": "ipython3",
   "version": "3.11.13"
  },
  "papermill": {
   "default_parameters": {},
   "duration": 6.135314,
   "end_time": "2025-10-17T19:30:17.586060",
   "environment_variables": {},
   "exception": null,
   "input_path": "__notebook__.ipynb",
   "output_path": "__notebook__.ipynb",
   "parameters": {},
   "start_time": "2025-10-17T19:30:11.450746",
   "version": "2.6.0"
  }
 },
 "nbformat": 4,
 "nbformat_minor": 5
}
