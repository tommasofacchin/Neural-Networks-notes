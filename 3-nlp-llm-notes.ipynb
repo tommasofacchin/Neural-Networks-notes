{
 "cells": [
  {
   "cell_type": "markdown",
   "id": "4d3874fa",
   "metadata": {
    "papermill": {
     "duration": 0.001894,
     "end_time": "2025-10-14T15:55:52.381640",
     "exception": false,
     "start_time": "2025-10-14T15:55:52.379746",
     "status": "completed"
    },
    "tags": []
   },
   "source": [
    "# **Natural Language Processing (NLP) and Large Language Models (LLMs)**"
   ]
  },
  {
   "cell_type": "markdown",
   "id": "c417b04e",
   "metadata": {
    "papermill": {
     "duration": 0.001223,
     "end_time": "2025-10-14T15:55:52.384435",
     "exception": false,
     "start_time": "2025-10-14T15:55:52.383212",
     "status": "completed"
    },
    "tags": []
   },
   "source": [
    "# **Introduction to NLP**\n",
    "## **Definition of NLP**\n",
    "## **History and Evolution**\n",
    "\n",
    "# **Core NLP Tasks**\n",
    "## **Text Classification**\n",
    "## **Sentiment Analysis**\n",
    "## **Named Entity Recognition (NER)**\n",
    "## **Part-of-Speech Tagging**\n",
    "## **Machine Translation**\n",
    "## **Text Summarization**\n",
    "## **Question Answering**\n",
    "## **Text Generation**\n",
    "## **Seq2Seq and Encoder-Decoder Models**\n",
    "\n",
    "# **Fundamental NLP Concepts**\n",
    "## **Tokenization**\n",
    "## **Embeddings and Word Representations**\n",
    "### **Word2Vec, GloVe**\n",
    "### **Contextual Embeddings (ELMo, BERT)**\n",
    "## **Language Modeling**\n",
    "## **Attention Mechanisms**\n",
    "## **Encoder-Decoder Architecture**\n",
    "## **Sequence-to-Sequence (Seq2Seq) Models**\n",
    "\n",
    "# **Introduction to Large Language Models (LLMs)**\n",
    "## **What Are LLMs?**\n",
    "## **How LLMs Work**\n",
    "## **Transformer Architecture Overview**\n",
    "## **Pretraining vs Fine-tuning**\n",
    "## **Zero-shot, One-shot, Few-shot Learning**\n",
    "\n",
    "# **LLM Applications**\n",
    "## **Chatbots and Virtual Assistants**\n",
    "## **Content Creation**\n",
    "## **Code Generation**\n",
    "## **Summarization and Translation**\n",
    "## **Data Analysis and Insights**\n",
    "## **Prompt Engineering**\n",
    "### **Basics of Prompt Design**\n",
    "### **Temperature and Creativity**\n",
    "## **Decoding / Generation Strategies**\n",
    "### **Greedy Search**\n",
    "### **Beam Search**\n",
    "### **Top-k Sampling**\n",
    "### **Top-p (Nucleus Sampling)**\n",
    "### **Max Tokens**\n",
    "\n",
    "\n",
    "# **Challenges and Limitations**\n",
    "## **Bias and Fairness**\n",
    "## **Hallucinations and Incorrect Outputs**\n",
    "## **Tokenization Limitations**\n",
    "## **Compute and Energy Costs**\n",
    "## **Security and Misuse Concerns**\n",
    "\n",
    "# **Tools and Frameworks**\n",
    "## **Hugging Face Transformers**\n",
    "## **OpenAI API**\n",
    "## **TensorFlow and PyTorch**\n",
    "## **Specialized Libraries (spaCy, NLTK, etc.)**\n"
   ]
  },
  {
   "cell_type": "markdown",
   "id": "1c14c171",
   "metadata": {
    "papermill": {
     "duration": 0.00093,
     "end_time": "2025-10-14T15:55:52.386553",
     "exception": false,
     "start_time": "2025-10-14T15:55:52.385623",
     "status": "completed"
    },
    "tags": []
   },
   "source": [
    "# Useful resources\n",
    "\n",
    "### **Youtube**\n",
    "\n",
    "### **Websites**\n",
    "\n",
    "### **Courses**\n",
    "\n",
    "*Oracle*: OCI Generative AI Professional (2025)\n",
    "https://mylearn.oracle.com/ou/learning-path/become-an-oci-generative-ai-professional-2025/147863"
   ]
  }
 ],
 "metadata": {
  "kaggle": {
   "accelerator": "none",
   "dataSources": [],
   "dockerImageVersionId": 31153,
   "isGpuEnabled": false,
   "isInternetEnabled": true,
   "language": "python",
   "sourceType": "notebook"
  },
  "kernelspec": {
   "display_name": "Python 3",
   "language": "python",
   "name": "python3"
  },
  "language_info": {
   "codemirror_mode": {
    "name": "ipython",
    "version": 3
   },
   "file_extension": ".py",
   "mimetype": "text/x-python",
   "name": "python",
   "nbconvert_exporter": "python",
   "pygments_lexer": "ipython3",
   "version": "3.11.13"
  },
  "papermill": {
   "default_parameters": {},
   "duration": 8.175817,
   "end_time": "2025-10-14T15:55:55.828268",
   "environment_variables": {},
   "exception": null,
   "input_path": "__notebook__.ipynb",
   "output_path": "__notebook__.ipynb",
   "parameters": {},
   "start_time": "2025-10-14T15:55:47.652451",
   "version": "2.6.0"
  }
 },
 "nbformat": 4,
 "nbformat_minor": 5
}
